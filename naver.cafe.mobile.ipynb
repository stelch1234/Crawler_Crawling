{
 "cells": [
  {
   "cell_type": "code",
   "execution_count": 1,
   "metadata": {},
   "outputs": [],
   "source": [
    "#라이브러리 불러오기\n",
    "import time\n",
    "import csv\n",
    "import pandas as pd\n",
    "import os\n",
    "from selenium import webdriver\n",
    "from bs4 import BeautifulSoup as bs"
   ]
  },
  {
   "cell_type": "code",
   "execution_count": 2,
   "metadata": {},
   "outputs": [],
   "source": [
    "#chrome driver로 제어하기 \n",
    "driver = webdriver.Chrome('/~ path')"
   ]
  },
  {
   "cell_type": "code",
   "execution_count": 3,
   "metadata": {},
   "outputs": [],
   "source": [
    "#로그인 전용 화면\n",
    "driver.get('https://nid.naver.com/nidlogin.login?svctype=262144&url=http://m.naver.com/')\n",
    "#아이디와 비번 입력\n",
    "driver.find_element_by_name('id').send_keys('your id')\n",
    "driver.find_element_by_name('pw').send_keys('your pw')\n",
    "\n",
    "#로그인 버튼 클릭\n",
    "driver.find_element_by_css_selector('#frmNIDLogin > fieldset > input').click()"
   ]
  },
  {
   "cell_type": "code",
   "execution_count": 16,
   "metadata": {},
   "outputs": [],
   "source": [
    "#기본 설정 \n",
    "keyword = '여자' ' '  '안전'\n",
    "base_url = \"https://m.cafe.naver.com/ArticleSearchList.nhn?search.query=\" + keyword +  \\\n",
    "\"&search.menuid=&search.searchBy=0&search.sortBy=date&search.clubid=10186119&search.option=0&search.defaultValue=\"\n",
    "driver.get(base_url)"
   ]
  },
  {
   "cell_type": "code",
   "execution_count": 17,
   "metadata": {},
   "outputs": [],
   "source": [
    "#더보기 클릭 \n",
    "for page_num in range(1,50):\n",
    "    driver.find_element_by_xpath('//*[@id=\"moreButton\"]').click()\n",
    "    time.sleep(1)"
   ]
  },
  {
   "cell_type": "code",
   "execution_count": 18,
   "metadata": {},
   "outputs": [],
   "source": [
    "#게시물 목록 접근\n",
    "#href 속성을 찾아 url을 리스트로 저장한다\n",
    "#네이버 카페마다 코드가 다름 \n",
    "article_list = driver.find_elements_by_css_selector('div.search_list > div#articleList > ul.lst_section >li >a ')\n",
    "article_urls = [ i.get_attribute('href') for i in article_list ]"
   ]
  },
  {
   "cell_type": "code",
   "execution_count": null,
   "metadata": {},
   "outputs": [],
   "source": [
    "#게시물 내부 글 수집 \n",
    "ar_list = []\n",
    "# Beautifulsoup 활용\n",
    "for article in article_urls:\n",
    "    try:\n",
    "        driver.get(article)\n",
    "        soup = bs(driver.page_source, 'html.parser')\n",
    "        # 게시글에서 제목 추출\n",
    "        title = soup.select('h2.tit')[0].get_text()\n",
    "        # 작성 날짜 가져오기\n",
    "        date = soup.select(\"span.date.font_l\")[0].get_text()\n",
    "        # 내용을 하나의 텍스트로 만든다. \n",
    "        content_tags = soup.select('#postContent')[0].select('p')\n",
    "        content = ' '.join([ tags.get_text() for tags in content_tags ])\n",
    "        # dict형태로 만들어 결과 list에 저장\n",
    "        ar_list.append({'title' : title, 'date' : date, 'content' : content})\n",
    "    except :\n",
    "        pass"
   ]
  },
  {
   "cell_type": "code",
   "execution_count": 15,
   "metadata": {},
   "outputs": [],
   "source": [
    "# 결과 데이터프레임화\n",
    "cafe_df = pd.DataFrame(ar_list)\n",
    "# csv파일로 추출\n",
    "cafe_df.to_csv('바이트레인_여자 안전_crawling.csv', index=False)"
   ]
  }
 ],
 "metadata": {
  "kernelspec": {
   "display_name": "Python 3",
   "language": "python",
   "name": "python3"
  },
  "language_info": {
   "codemirror_mode": {
    "name": "ipython",
    "version": 3
   },
   "file_extension": ".py",
   "mimetype": "text/x-python",
   "name": "python",
   "nbconvert_exporter": "python",
   "pygments_lexer": "ipython3",
   "version": "3.6.7"
  }
 },
 "nbformat": 4,
 "nbformat_minor": 2
}
